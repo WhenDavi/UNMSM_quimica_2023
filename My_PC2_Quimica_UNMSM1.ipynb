{
  "nbformat": 4,
  "nbformat_minor": 0,
  "metadata": {
    "colab": {
      "provenance": [],
      "include_colab_link": true
    },
    "kernelspec": {
      "name": "python3",
      "display_name": "Python 3"
    },
    "language_info": {
      "name": "python"
    },
    "widgets": {
      "application/vnd.jupyter.widget-state+json": {
        "f534de799b644da78a26101835ae8196": {
          "model_module": "faerun-notebook",
          "model_name": "SmilesDrawerModel",
          "model_module_version": "^0.1.5",
          "state": {
            "_dom_classes": [],
            "_model_module": "faerun-notebook",
            "_model_module_version": "^0.1.5",
            "_model_name": "SmilesDrawerModel",
            "_view_count": null,
            "_view_module": "faerun-notebook",
            "_view_module_version": "^0.1.5",
            "_view_name": "SmilesDrawerView",
            "background": "#1e1e1e",
            "border": true,
            "layout": "IPY_MODEL_84fdd4dbf5294e09b28a6da52c6edb8b",
            "options": {
              "scale": 1.25
            },
            "output": "svg",
            "theme": "dark",
            "value": [
              [
                "Rxn",
                "CC=CC.O=O>>C(=O)=O.O"
              ]
            ]
          }
        },
        "84fdd4dbf5294e09b28a6da52c6edb8b": {
          "model_module": "@jupyter-widgets/base",
          "model_name": "LayoutModel",
          "model_module_version": "1.2.0",
          "state": {
            "_model_module": "@jupyter-widgets/base",
            "_model_module_version": "1.2.0",
            "_model_name": "LayoutModel",
            "_view_count": null,
            "_view_module": "@jupyter-widgets/base",
            "_view_module_version": "1.2.0",
            "_view_name": "LayoutView",
            "align_content": null,
            "align_items": null,
            "align_self": null,
            "border": null,
            "bottom": null,
            "display": null,
            "flex": null,
            "flex_flow": null,
            "grid_area": null,
            "grid_auto_columns": null,
            "grid_auto_flow": null,
            "grid_auto_rows": null,
            "grid_column": null,
            "grid_gap": null,
            "grid_row": null,
            "grid_template_areas": null,
            "grid_template_columns": null,
            "grid_template_rows": null,
            "height": null,
            "justify_content": null,
            "justify_items": null,
            "left": null,
            "margin": null,
            "max_height": null,
            "max_width": null,
            "min_height": null,
            "min_width": null,
            "object_fit": null,
            "object_position": null,
            "order": null,
            "overflow": null,
            "overflow_x": null,
            "overflow_y": null,
            "padding": null,
            "right": null,
            "top": null,
            "visibility": null,
            "width": null
          }
        }
      }
    }
  },
  "cells": [
    {
      "cell_type": "markdown",
      "metadata": {
        "id": "view-in-github",
        "colab_type": "text"
      },
      "source": [
        "<a href=\"https://colab.research.google.com/github/DavGuzm16/UNMSM_quimica_2023/blob/main/My_PC2_Quimica_UNMSM1.ipynb\" target=\"_parent\"><img src=\"https://colab.research.google.com/assets/colab-badge.svg\" alt=\"Open In Colab\"/></a>"
      ]
    },
    {
      "cell_type": "markdown",
      "source": [
        "$$\\Large \\textit{UNMSM | Química}$$\n",
        "$$\\large \\textbf{PC Nº2 | Materia y clasificación}$$\n",
        "\n",
        "_Profesor: Jesus Alvarado Huayhuaz_"
      ],
      "metadata": {
        "id": "sDJAjbaQOj4x"
      }
    },
    {
      "cell_type": "markdown",
      "source": [
        "Todas las indicaciones para la presentación de la práctica son explicadas en clase y brindadas en el material de enunciado de preguntas en formato PDF."
      ],
      "metadata": {
        "id": "_DsTzWLoP7Fy"
      }
    },
    {
      "cell_type": "code",
      "source": [
        "#Instalar librerias :D\n",
        "!pip install rdkit\n",
        "!pip install chempy"
      ],
      "metadata": {
        "id": "nCNL5mOowPVL"
      },
      "execution_count": null,
      "outputs": []
    },
    {
      "cell_type": "markdown",
      "source": [
        "## Pregunta 1: DataFrames y listas en python (4 puntos)"
      ],
      "metadata": {
        "id": "obD7c2igOD6t"
      }
    },
    {
      "cell_type": "markdown",
      "source": [
        "Usando PeriodicTable, crea una tabla con 20 elementos químicos y en las columnas considera: nombre, simbolo, masa_atomica, numero_atomico\ty valencias. Puedes ayudarte del siguiente [material](https://github.com/inefable12/UNMSM_quimica_2023/blob/main/Python_para_quimica_2023.ipynb)."
      ],
      "metadata": {
        "id": "gV4WKDa72eez"
      }
    },
    {
      "cell_type": "code",
      "source": [
        "from rdkit import Chem\n",
        "import pandas as pd\n",
        "PeriodicTable = Chem.GetPeriodicTable()\n",
        "\n",
        "nombres = [PeriodicTable.GetElementName(x) for x in range (1,21)]\n",
        "simbolos = [PeriodicTable.GetElementSymbol(x) for x in range (1,21)]\n",
        "masa_atomica = [PeriodicTable.GetAtomicWeight(x) for x in range (1,21)]\n",
        "numero_atomico = [x for x in range (1,21)]\n",
        "valencias = [PeriodicTable.GetValenceList(x) for x in range (1,21)]\n",
        "\n",
        "data = {\"Nombres\": nombres, \"Simbolos\": simbolos, \"Masa Atomica\": masa_atomica, \"N° Atomico\": numero_atomico, \"Valencias\": valencias}\n",
        "\n",
        "dataframe = pd.DataFrame(data)\n",
        "print(dataframe)"
      ],
      "metadata": {
        "colab": {
          "base_uri": "https://localhost:8080/"
        },
        "id": "PdaV4qMc3chQ",
        "outputId": "68d5e358-f14f-449c-8410-788f47f126e1"
      },
      "execution_count": null,
      "outputs": [
        {
          "output_type": "stream",
          "name": "stdout",
          "text": [
            "       Nombres Simbolos  Masa Atomica  N° Atomico  Valencias\n",
            "0     Hydrogen        H         1.008           1        [1]\n",
            "1       Helium       He         4.003           2        [0]\n",
            "2      Lithium       Li         6.941           3    [1, -1]\n",
            "3    Beryllium       Be         9.012           4        [2]\n",
            "4        Boron        B        10.812           5        [3]\n",
            "5       Carbon        C        12.011           6        [4]\n",
            "6     Nitrogen        N        14.007           7        [3]\n",
            "7       Oxygen        O        15.999           8        [2]\n",
            "8     Fluorine        F        18.998           9        [1]\n",
            "9         Neon       Ne        20.180          10        [0]\n",
            "10      Sodium       Na        22.990          11    [1, -1]\n",
            "11   Magnesium       Mg        24.305          12    [2, -1]\n",
            "12   Aluminium       Al        26.982          13     [3, 6]\n",
            "13     Silicon       Si        28.086          14     [4, 6]\n",
            "14  Phosphorus        P        30.974          15  [3, 5, 7]\n",
            "15      Sulfur        S        32.067          16  [2, 4, 6]\n",
            "16    Chlorine       Cl        35.453          17        [1]\n",
            "17       Argon       Ar        39.948          18        [0]\n",
            "18   Potassium        K        39.098          19    [1, -1]\n",
            "19     Calcium       Ca        40.078          20    [2, -1]\n"
          ]
        }
      ]
    },
    {
      "cell_type": "markdown",
      "source": [
        "## Pregunta 2: Configuración electrónica (4 puntos)"
      ],
      "metadata": {
        "id": "epzOadagLfPi"
      }
    },
    {
      "cell_type": "markdown",
      "source": [
        "Escribe un programa que lea el número atómico y me indique el número de electrones de valencia."
      ],
      "metadata": {
        "id": "MbAEOGPsjOWZ"
      }
    },
    {
      "cell_type": "code",
      "source": [
        "z = int(input(\"Numero atomico: \"))\n",
        "z_puntos_criticos =  [0,2,4,10,12,18,20,30,36,38,48,54,56,70,80,86,88,102,112,118]\n",
        "ev_puntos_criticos = [0,2,2,8,2,8,2,2,8,2,2,8,2,2,2,8,2,2,2,8]\n",
        "count = 0\n",
        "\n",
        "def verif(e_min,e_max,ev_pasado):\n",
        "    global ev\n",
        "    if(count>e_min) & (count<e_max):\n",
        "        ev = (z - e_min) + ev_pasado\n",
        "        if (e_min>=20) & (e_max<=30): ev=2\n",
        "        if (e_min>=38) & (e_max<=48): ev=2\n",
        "        if (e_min>=56) & (e_max<=80): ev=2\n",
        "        if (e_min>=88) & (e_max<=112): ev=2\n",
        "\n",
        "    for i in range(0,len(z_puntos_criticos)):\n",
        "        if z==z_puntos_criticos[i]:\n",
        "            ev=ev_puntos_criticos[i]\n",
        "\n",
        "#so\n",
        "\n",
        "while count<=z:\n",
        "    verif(0,2,0)        #1S [2]\n",
        "    verif(2,4,0)        #2S [2]\n",
        "    verif(4,10,2)       #2P [6]\n",
        "    verif(10,12,0)      #3S [2]\n",
        "    verif(12,18,2)      #3P [6]\n",
        "    verif(18,20,0)      #4S [2]\n",
        "    verif(20,30,0)      #3D [10]\n",
        "    verif(30,36,2)      #4P [6]\n",
        "    verif(36,38,0)      #5S [2]\n",
        "    verif(38,48,0)      #4D [10]\n",
        "    verif(48,54,2)      #5P [6]\n",
        "    verif(54,56,0)      #6S [2]\n",
        "    verif(56,70,0)      #4F [14]\n",
        "    verif(70,80,0)      #5D [10]\n",
        "    verif(80,86,2)      #6P [6]\n",
        "    verif(86,88,0)      #7S [2]\n",
        "    verif(88,102,0)     #5F [14]\n",
        "    verif(102,112,0)    #6D [10]\n",
        "    verif(112,118,2)    #7P [6]\n",
        "    count+=1\n",
        "\n",
        "print(f\"Electrones de valencia = {ev}\")"
      ],
      "metadata": {
        "id": "gJGX0p5QLetj",
        "colab": {
          "base_uri": "https://localhost:8080/"
        },
        "outputId": "a084b219-7002-4994-9065-082ed77a4f3d"
      },
      "execution_count": null,
      "outputs": [
        {
          "output_type": "stream",
          "name": "stdout",
          "text": [
            "Numero atomico: 6\n",
            "Electrones de valencia = 4\n"
          ]
        }
      ]
    },
    {
      "cell_type": "markdown",
      "source": [
        "# Pregunta 3: Molecularidad & compuestos covalentes (4 puntos)"
      ],
      "metadata": {
        "id": "8gxSHpD3LZsh"
      }
    },
    {
      "cell_type": "code",
      "source": [
        "#Código necesario para generar la imagen, no editar\n",
        "!pip install faerun-notebook==0.1.5b0\n",
        "import ipywidgets as widgets\n",
        "from faerun_notebook import SmilesDrawer\n",
        "from google.colab import output\n",
        "output.enable_custom_widget_manager()"
      ],
      "metadata": {
        "id": "JgF8Ohtbky65"
      },
      "execution_count": null,
      "outputs": []
    },
    {
      "cell_type": "markdown",
      "source": [
        "Balancea la siguiente reacción química y asigna todos los subíndices o moleculariedad."
      ],
      "metadata": {
        "id": "5sLC10D_oSrV"
      }
    },
    {
      "cell_type": "code",
      "source": [
        "SmilesDrawer(value=[(\"Rxn\", \"CC=CC.O=O>>C(=O)=O.O\")], theme='dark', background=\"#1e1e1e\", options={'scale': 1.25})"
      ],
      "metadata": {
        "colab": {
          "base_uri": "https://localhost:8080/",
          "height": 140,
          "referenced_widgets": [
            "f534de799b644da78a26101835ae8196",
            "84fdd4dbf5294e09b28a6da52c6edb8b"
          ]
        },
        "id": "CC0mAXWmnYyN",
        "outputId": "b6624783-f658-4c9b-f740-2c61a0083191"
      },
      "execution_count": null,
      "outputs": [
        {
          "output_type": "display_data",
          "data": {
            "text/plain": [
              "SmilesDrawer(background='#1e1e1e', options={'scale': 1.25}, theme='dark', value=[('Rxn', 'CC=CC.O=O>>C(=O)=O.O…"
            ],
            "application/vnd.jupyter.widget-view+json": {
              "version_major": 2,
              "version_minor": 0,
              "model_id": "f534de799b644da78a26101835ae8196"
            }
          },
          "metadata": {
            "application/vnd.jupyter.widget-view+json": {
              "colab": {
                "custom_widget_manager": {
                  "url": "https://ssl.gstatic.com/colaboratory-static/widgets/colab-cdn-widget-manager/b3e629b1971e1542/manager.min.js"
                }
              }
            }
          }
        }
      ]
    },
    {
      "cell_type": "code",
      "source": [
        "from chempy import balance_stoichiometry\n",
        "\n",
        "#Reaccion normal: C4H8 + O2 ---> CO2 + H2O\n",
        "\n",
        "reactivos, productos = balance_stoichiometry({\"C4H8\",\"O2\"},{\"CO2\",\"H2O\"})\n",
        "print(f\"Reactivos balanceados: {reactivos}\")\n",
        "print(f\"Productos balanceados: {productos}\")\n",
        "\n",
        "#Reaccion balanceada: C4H8 + 6 O2 ---> 4 CO2 + 4 H2O"
      ],
      "metadata": {
        "colab": {
          "base_uri": "https://localhost:8080/"
        },
        "id": "Lo7Qr2gZtMPr",
        "outputId": "9caad076-b871-45cd-c274-00fa99da627e"
      },
      "execution_count": null,
      "outputs": [
        {
          "output_type": "stream",
          "name": "stdout",
          "text": [
            "Reactivos balanceados: OrderedDict([('C4H8', 1), ('O2', 6)])\n",
            "Productos balanceados: OrderedDict([('CO2', 4), ('H2O', 4)])\n"
          ]
        }
      ]
    },
    {
      "cell_type": "markdown",
      "source": [
        "## Pregunta 4: SMILES, RDKit y Open Babel (4 puntos)"
      ],
      "metadata": {
        "id": "Rh-nAUiKhJNB"
      }
    },
    {
      "cell_type": "markdown",
      "source": [
        "Colecta la representación SMILES de 10 fármacos usando RDKit y preoptimiza sus estructuras."
      ],
      "metadata": {
        "id": "NIkI45Xdqqnt"
      }
    },
    {
      "cell_type": "code",
      "source": [
        "from rdkit import Chem\n",
        "from rdkit.Chem import Draw\n",
        "\n",
        "diez_farmacos = {\n",
        "  \"paracetamol\": Chem.MolFromSmiles(\"N(C1=CC=C(O)C=C1) C(=O)C\"),\n",
        "  \"ibuprofeno\": Chem.MolFromSmiles(\"C1(=CC=C(C(C)C(=O)O)C=C1) CC(C)C\"),\n",
        "  \"sabutamol\": Chem.MolFromSmiles(\"C1(=CC(O)=C(CO)C=C1) C(O)CNC(C)(C)(C)\"),\n",
        "  \"metformina\": Chem.MolFromSmiles(\"N(C(=N)N)C(=N)N(C)C\"),\n",
        "  \"aspirina\": Chem.MolFromSmiles(\"C1(=C(C(=O)O)C=CC=C1)OC(=O)C\"),\n",
        "  \"naproxeno\": Chem.MolFromSmiles(\"COC1=CC=C2C(=C1)-C=CC([C@@H](C)C(=O)O)=C2\"),\n",
        "  \"alopurinol\": Chem.MolFromSmiles(\"N1=CN=C2NNC=C2C1(=O)\"),\n",
        "  \"metadona\": Chem.MolFromSmiles(\"CCC(=O)C(C1=CC=CC=C1)(C1=CC=CC=C1)CC(C)N(C)C\"),\n",
        "  \"diclofenaco\": Chem.MolFromSmiles(\"ClC1=CC=CC(Cl)=C1NC1=CC=CC=C1CC(=O)O\"),\n",
        "  \"octopamina\": Chem.MolFromSmiles(\"NCC[C@@H](O)C1=CC=C(O)C=C1\")\n",
        "}\n",
        "\n",
        "visualizar = []\n",
        "\n",
        "for i in diez_farmacos.values():\n",
        "  visualizar.append(i)\n",
        "\n",
        "Draw.MolsToGridImage(visualizar)"
      ],
      "metadata": {
        "colab": {
          "base_uri": "https://localhost:8080/",
          "height": 817
        },
        "id": "xgc15Y7VQ4KO",
        "outputId": "e1690f10-ead9-4a8a-a78a-ae3ff9345f21"
      },
      "execution_count": null,
      "outputs": [
        {
          "output_type": "execute_result",
          "data": {
            "image/png": "[encoded data removed]",
            "text/plain": [
              "<IPython.core.display.Image object>"
            ]
          },
          "metadata": {},
          "execution_count": 14
        }
      ]
    },
    {
      "cell_type": "markdown",
      "source": [
        "## Pregunta 5: Método científico (4 puntos)"
      ],
      "metadata": {
        "id": "CuzCcXJghR14"
      }
    },
    {
      "cell_type": "markdown",
      "source": [
        "Leer el artículo disponibilizado por el profesor y explica cómo es aplicado el método científico. Emplea como máximo 300 palabras."
      ],
      "metadata": {
        "id": "WngRSR-Rhmx1"
      }
    },
    {
      "cell_type": "markdown",
      "source": [
        "El objetivo de esta investigación fue demostrar la eficiencia en el uso de modelos didácticos para la enseñanza de conceptos esenciales que son abordados por la química. Con dicho fin, se recurrió al uso de materiales económicos y factibles para el desarrollo de la dinámica propuesta en la explicación del tema de configuración electrónica. Llevando a cabo una analógica entre el núcleo atómico y las cajas de huevos, representando sus espacios vacíos a los niveles y subniveles que serían acoplados con esferas de ping-pong, simulando a los electrones. En búsqueda de verificar su eficacia, se decidió ejecutar la idea en áreas reales. Y consigo, los resultados evidenciaron un mejor entendimiento y un aprendizaje exitoso del tema, cumpliendo con el objetivo inicial que fue sustentando al recurrir con los pasos propios del método científico."
      ],
      "metadata": {
        "id": "qnhNUTaItcnk"
      }
    }
  ]
}