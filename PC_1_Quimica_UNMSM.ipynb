{
  "nbformat": 4,
  "nbformat_minor": 0,
  "metadata": {
    "colab": {
      "provenance": [],
      "include_colab_link": true
    },
    "kernelspec": {
      "name": "python3",
      "display_name": "Python 3"
    },
    "language_info": {
      "name": "python"
    },
    "widgets": {
      "application/vnd.jupyter.widget-state+json": {
        "d4691835f4474884829213796343340f": {
          "model_module": "faerun-notebook",
          "model_name": "SmilesDrawerModel",
          "model_module_version": "^0.1.5",
          "state": {
            "_dom_classes": [],
            "_model_module": "faerun-notebook",
            "_model_module_version": "^0.1.5",
            "_model_name": "SmilesDrawerModel",
            "_view_count": null,
            "_view_module": "faerun-notebook",
            "_view_module_version": "^0.1.5",
            "_view_name": "SmilesDrawerView",
            "background": "#1e1e1e",
            "border": true,
            "layout": "IPY_MODEL_35b7ce94b6e84d4c985918e50984dcd7",
            "options": {
              "scale": 1.25
            },
            "output": "svg",
            "theme": "dark",
            "value": [
              [
                "Rxn",
                "C(C1C(C(C(C(O1)O)O)O)O)O.O=O>>C(=O)=O.O"
              ]
            ]
          }
        },
        "35b7ce94b6e84d4c985918e50984dcd7": {
          "model_module": "@jupyter-widgets/base",
          "model_name": "LayoutModel",
          "model_module_version": "1.2.0",
          "state": {
            "_model_module": "@jupyter-widgets/base",
            "_model_module_version": "1.2.0",
            "_model_name": "LayoutModel",
            "_view_count": null,
            "_view_module": "@jupyter-widgets/base",
            "_view_module_version": "1.2.0",
            "_view_name": "LayoutView",
            "align_content": null,
            "align_items": null,
            "align_self": null,
            "border": null,
            "bottom": null,
            "display": null,
            "flex": null,
            "flex_flow": null,
            "grid_area": null,
            "grid_auto_columns": null,
            "grid_auto_flow": null,
            "grid_auto_rows": null,
            "grid_column": null,
            "grid_gap": null,
            "grid_row": null,
            "grid_template_areas": null,
            "grid_template_columns": null,
            "grid_template_rows": null,
            "height": null,
            "justify_content": null,
            "justify_items": null,
            "left": null,
            "margin": null,
            "max_height": null,
            "max_width": null,
            "min_height": null,
            "min_width": null,
            "object_fit": null,
            "object_position": null,
            "order": null,
            "overflow": null,
            "overflow_x": null,
            "overflow_y": null,
            "padding": null,
            "right": null,
            "top": null,
            "visibility": null,
            "width": null
          }
        }
      }
    }
  },
  "cells": [
    {
      "cell_type": "markdown",
      "metadata": {
        "id": "view-in-github",
        "colab_type": "text"
      },
      "source": [
        "<a href=\"https://colab.research.google.com/github/DavGuzm16/UNMSM_quimica_2023/blob/main/PC_1_Quimica_UNMSM.ipynb\" target=\"_parent\"><img src=\"https://colab.research.google.com/assets/colab-badge.svg\" alt=\"Open In Colab\"/></a>"
      ]
    },
    {
      "cell_type": "markdown",
      "source": [
        "$$\\Large \\textit{UNMSM | Química}$$\n",
        "$$\\large \\textbf{PC Nº1 | Materia y clasificación}$$\n",
        "\n",
        "_Profesor: Jesus Alvarado Huayhuaz_"
      ],
      "metadata": {
        "id": "sDJAjbaQOj4x"
      }
    },
    {
      "cell_type": "markdown",
      "source": [
        "Todas las indicaciones para la presentación de la práctica son explicadas en clase y brindadas en el material de enunciado de preguntas en formato PDF."
      ],
      "metadata": {
        "id": "_DsTzWLoP7Fy"
      }
    },
    {
      "cell_type": "markdown",
      "source": [
        "## Pregunta 1: Sobre el ABC de python (4 puntos)"
      ],
      "metadata": {
        "id": "obD7c2igOD6t"
      }
    },
    {
      "cell_type": "markdown",
      "source": [
        "Durante la semana de revisión del material \"ABC de python\", reflexiona sobre qué conceptos aprendiste con claridad y cuáles consideras los más desafiantes. A continuación resuelve los siguiente ejercicios, puedes ayudarte del material en http://bit.ly/3YKICSZ."
      ],
      "metadata": {
        "id": "emt93S7dL7QH"
      }
    },
    {
      "cell_type": "code",
      "source": [
        "# Imprime la versión de python que usas y las palabras reservadas de python para esa versión."
      ],
      "metadata": {
        "id": "6mJvqMN0LTU8"
      },
      "execution_count": null,
      "outputs": []
    },
    {
      "cell_type": "code",
      "source": [
        "!python --version"
      ],
      "metadata": {
        "colab": {
          "base_uri": "https://localhost:8080/"
        },
        "id": "tpr0UrluDAkk",
        "outputId": "7fb0c0ec-d2ad-4767-cece-f6b43e330a50"
      },
      "execution_count": null,
      "outputs": [
        {
          "output_type": "stream",
          "name": "stdout",
          "text": [
            "Python 3.10.12\n"
          ]
        }
      ]
    },
    {
      "cell_type": "code",
      "source": [
        "# Crea una matriz de 3x3 e imprime la suma de los elementos en su diagonal (traza)."
      ],
      "metadata": {
        "id": "MxDzGypdLTXh"
      },
      "execution_count": null,
      "outputs": []
    },
    {
      "cell_type": "code",
      "source": [
        "matriz = [[input(\"E1: \"),input(\"E2: \"),input(\"E3: \")],\n",
        "          [input(\"E4: \"),input(\"E5: \"),input(\"E6: \")],\n",
        "          [input(\"E7: \"),input(\"E8: \"),input(\"E9: \")]]\n",
        "\n",
        "traza = int(matriz[0][0])+int(matriz[1][1])+int(matriz[2][2])\n",
        "print(f\"\\nLa traza de la matriz = {traza}\")"
      ],
      "metadata": {
        "colab": {
          "base_uri": "https://localhost:8080/"
        },
        "id": "YbWX8KL6HJsc",
        "outputId": "359c5bf5-0260-497d-9bdd-f28cba874efd"
      },
      "execution_count": null,
      "outputs": [
        {
          "output_type": "stream",
          "name": "stdout",
          "text": [
            "E1: 10\n",
            "E2: 6\n",
            "E3: 3\n",
            "E4: 2\n",
            "E5: 1\n",
            "E6: 6\n",
            "E7: 3\n",
            "E8: 11\n",
            "E9: 2\n",
            "\n",
            "La traza de la matriz = 13\n"
          ]
        }
      ]
    },
    {
      "cell_type": "code",
      "source": [
        "# Guarda como variable la masa atómica de los elementos C, H y O, e imprime la masa molecular del etanol."
      ],
      "metadata": {
        "id": "MyhNX7JmLTSe"
      },
      "execution_count": null,
      "outputs": []
    },
    {
      "cell_type": "code",
      "source": [
        "mm_carbono = 12\n",
        "mm_hidrogeno = 1\n",
        "mm_oxigeno = 16\n",
        "print(\"Formula del etanol: C2H6O\")\n",
        "print(f\"La masa molecular del etanol es: {mm_carbono*2 + mm_hidrogeno*6 + mm_oxigeno}\")"
      ],
      "metadata": {
        "colab": {
          "base_uri": "https://localhost:8080/"
        },
        "id": "g6bRKAqA6y99",
        "outputId": "ad169c43-6e1e-40e8-c6f7-f823a696b859"
      },
      "execution_count": null,
      "outputs": [
        {
          "output_type": "stream",
          "name": "stdout",
          "text": [
            "Formula del etanol: C2H6O\n",
            "La masa molecular del etanol es: 46\n"
          ]
        }
      ]
    },
    {
      "cell_type": "code",
      "source": [
        "# Busca la temperatura de fusión en Celsius de 5 metales y guárdalos en una lista. Imprime las temperaturas en Kelvin"
      ],
      "metadata": {
        "id": "NCOnJ0FwgLLc"
      },
      "execution_count": null,
      "outputs": []
    },
    {
      "cell_type": "code",
      "source": [
        "fusion_oro = 1064\n",
        "fusion_cobre = 1085\n",
        "fusion_plata = 961.8\n",
        "fusion_hierro = 1538\n",
        "fusion_plomo = 327.5\n",
        "\n",
        "celcius = [fusion_oro,fusion_cobre,fusion_plata,fusion_hierro,fusion_plomo]\n",
        "kelvin = []\n",
        "\n",
        "for fusion in celcius:\n",
        "  kelvin.append(fusion+273)\n",
        "\n",
        "print(f\"Temperaturas en Celcius = {celcius}\")\n",
        "print(f\"Temperaturas en Kelvin = {kelvin}\")"
      ],
      "metadata": {
        "colab": {
          "base_uri": "https://localhost:8080/"
        },
        "id": "q3B36tl08hS0",
        "outputId": "9874aed6-dba6-4259-a5a8-0b9779aa82a7"
      },
      "execution_count": null,
      "outputs": [
        {
          "output_type": "stream",
          "name": "stdout",
          "text": [
            "Temperaturas en Celcius = [1064, 1085, 961.8, 1538, 327.5]\n",
            "Temperaturas en Kelvin = [1337, 1358, 1234.8, 1811, 600.5]\n"
          ]
        }
      ]
    },
    {
      "cell_type": "markdown",
      "source": [
        "## Pregunta 2: Operaciones (4 puntos)"
      ],
      "metadata": {
        "id": "epzOadagLfPi"
      }
    },
    {
      "cell_type": "markdown",
      "source": [
        "Escribe un programa que lea repetidamente elementos químicos en español hasta que el usuario introduzca “fin”. Una vez se haya introducido “fin”, muestra por pantalla (o sea imprime) el total de elementos ingresados. Si el usuario introduce cualquier otra cosa que no sea un elemento químico, detecta su fallo usando try y except, muestra un mensaje de error y pasa al siguiente elemento."
      ],
      "metadata": {
        "id": "MbAEOGPsjOWZ"
      }
    },
    {
      "cell_type": "code",
      "source": [
        "from logging import exception\n",
        "!pip install rdkit\n",
        "\n",
        "from rdkit import Chem\n",
        "\n",
        "Periodic_Table = Chem.GetPeriodicTable()\n",
        "Nombres_Elementos = [Periodic_Table.GetElementName(x) for x in range(1,119)]\n",
        "print(f\"Lista de Elementos = {Nombres_Elementos}\")\n",
        "\n",
        "Usuario_Elementos = []\n",
        "opc = \"Continuar\"\n",
        "\n",
        "while opc==\"Continuar\":\n",
        "  try:\n",
        "    elemento_usuario = input(\"\\nIngresa el nombre de un elemento (Ingles): \")\n",
        "    elemento_usuario = elemento_usuario.capitalize()\n",
        "    if elemento_usuario in Nombres_Elementos:\n",
        "      Usuario_Elementos.append(elemento_usuario)\n",
        "    else:\n",
        "      print(0/0) #excepcion\n",
        "  except:\n",
        "    print(\"Dato invalido\")\n",
        "\n",
        "  opc=input(\"Continuar o Fin? : \")\n",
        "  opc=opc.capitalize()\n",
        "\n",
        "print(f\"\\nTus elementos introducidos = {Usuario_Elementos}\")"
      ],
      "metadata": {
        "colab": {
          "base_uri": "https://localhost:8080/"
        },
        "id": "ksZ7VKTMDFJm",
        "outputId": "afb014fe-a958-4240-f9d3-09beffad2500"
      },
      "execution_count": null,
      "outputs": [
        {
          "output_type": "stream",
          "name": "stdout",
          "text": [
            "Requirement already satisfied: rdkit in /usr/local/lib/python3.10/dist-packages (2023.3.3)\n",
            "Requirement already satisfied: numpy in /usr/local/lib/python3.10/dist-packages (from rdkit) (1.23.5)\n",
            "Requirement already satisfied: Pillow in /usr/local/lib/python3.10/dist-packages (from rdkit) (9.4.0)\n",
            "Lista de Elementos = ['Hydrogen', 'Helium', 'Lithium', 'Beryllium', 'Boron', 'Carbon', 'Nitrogen', 'Oxygen', 'Fluorine', 'Neon', 'Sodium', 'Magnesium', 'Aluminium', 'Silicon', 'Phosphorus', 'Sulfur', 'Chlorine', 'Argon', 'Potassium', 'Calcium', 'Scandium', 'Titanium', 'Vanadium', 'Chromium', 'Manganese', 'Iron', 'Cobalt', 'Nickel', 'Copper', 'Zinc', 'Gallium', 'Germanium', 'Arsenic', 'Selenium', 'Bromine', 'Krypton', 'Rubidium', 'Strontium', 'Yttrium', 'Zirconium', 'Niobium', 'Molybdenum', 'Technetium', 'Ruthenium', 'Rhodium', 'Palladium', 'Silver', 'Cadmium', 'Indium', 'Tin', 'Antimony', 'Tellurium', 'Iodine', 'Xenon', 'Caesium', 'Barium', 'Lanthanum', 'Cerium', 'Praseodymium', 'Neodymium', 'Promethium', 'Samarium', 'Europium', 'Gadolinium', 'Terbium', 'Dysprosium', 'Holmium', 'Erbium', 'Thulium', 'Ytterbium', 'Lutetium', 'Hafnium', 'Tantalum', 'Tungsten', 'Rhenium', 'Osmium', 'Iridium', 'Platinum', 'Gold', 'Mercury', 'Thallium', 'Lead', 'Bismuth', 'Polonium', 'Astatine', 'Radon', 'Francium', 'Radium', 'Actinium', 'Thorium', 'Protactinium', 'Uranium', 'Neptunium', 'Plutonium', 'Americium', 'Curium', 'Berkelium', 'Californium', 'Einsteinium', 'Fermium', 'Mendelevium', 'Nobelium', 'Lawrencium', 'Rutherfordium', 'Dubnium', 'Seaborgium', 'Bohrium', 'Hassium', 'Meitnerium', 'Darmstadtium', 'Roentgenium', 'Copernicium', 'Nihonium', 'Flerovium', 'Moscovium', 'Livermorium', 'Tennessine', 'Oganesson']\n",
            "\n",
            "Ingresa el nombre de un elemento (Ingles): boron\n",
            "Continuar o Fin? : continuar\n",
            "\n",
            "Ingresa el nombre de un elemento (Ingles): pollo\n",
            "Dato invalido\n",
            "Continuar o Fin? : continuar\n",
            "\n",
            "Ingresa el nombre de un elemento (Ingles): 10\n",
            "Dato invalido\n",
            "Continuar o Fin? : continuar\n",
            "\n",
            "Ingresa el nombre de un elemento (Ingles): Helium\n",
            "Continuar o Fin? : 10\n",
            "\n",
            "Tus elementos introducidos = ['Boron', 'Helium']\n"
          ]
        }
      ]
    },
    {
      "cell_type": "markdown",
      "source": [
        "# Pregunta 3: Conservación de la masa (4 puntos)"
      ],
      "metadata": {
        "id": "8gxSHpD3LZsh"
      }
    },
    {
      "cell_type": "markdown",
      "source": [
        "### Código necesario para generar la imagen"
      ],
      "metadata": {
        "id": "mMV9c3hDl7KL"
      }
    },
    {
      "cell_type": "code",
      "source": [
        "!pip install faerun-notebook==0.1.5b0\n",
        "\n",
        "import ipywidgets as widgets\n",
        "from faerun_notebook import SmilesDrawer\n",
        "from google.colab import output\n",
        "output.enable_custom_widget_manager()"
      ],
      "metadata": {
        "id": "JgF8Ohtbky65"
      },
      "execution_count": null,
      "outputs": []
    },
    {
      "cell_type": "markdown",
      "source": [
        "### Reacción química"
      ],
      "metadata": {
        "id": "5sLC10D_oSrV"
      }
    },
    {
      "cell_type": "markdown",
      "source": [
        "Demuestra cómo se cumple la conservación de la masa en la siguiente reacción química. Sugerencia: hacer un balance estequiométrico y luego emplear la masa molecular de reactivos y productos."
      ],
      "metadata": {
        "id": "OVRhAzaVmD86"
      }
    },
    {
      "cell_type": "code",
      "source": [
        "SmilesDrawer(value=[(\"Rxn\", \"C(C1C(C(C(C(O1)O)O)O)O)O.O=O>>C(=O)=O.O\")], theme='dark', background=\"#1e1e1e\", options={'scale': 1.25})"
      ],
      "metadata": {
        "colab": {
          "base_uri": "https://localhost:8080/",
          "height": 289,
          "referenced_widgets": [
            "d4691835f4474884829213796343340f",
            "35b7ce94b6e84d4c985918e50984dcd7"
          ]
        },
        "id": "CC0mAXWmnYyN",
        "outputId": "fb9a2a33-11fa-47cd-bffe-ce9c285db1d8"
      },
      "execution_count": null,
      "outputs": [
        {
          "output_type": "display_data",
          "data": {
            "text/plain": [
              "SmilesDrawer(background='#1e1e1e', options={'scale': 1.25}, theme='dark', value=[('Rxn', 'C(C1C(C(C(C(O1)O)O)O…"
            ],
            "application/vnd.jupyter.widget-view+json": {
              "version_major": 2,
              "version_minor": 0,
              "model_id": "d4691835f4474884829213796343340f"
            }
          },
          "metadata": {
            "application/vnd.jupyter.widget-view+json": {
              "colab": {
                "custom_widget_manager": {
                  "url": "https://ssl.gstatic.com/colaboratory-static/widgets/colab-cdn-widget-manager/b3e629b1971e1542/manager.min.js"
                }
              }
            }
          }
        }
      ]
    },
    {
      "cell_type": "markdown",
      "source": [],
      "metadata": {
        "id": "KmNYI7dozhwX"
      }
    },
    {
      "cell_type": "code",
      "source": [
        "mm_carbono = 12\n",
        "mm_hidrogeno = 1\n",
        "mm_oxigeno = 16\n",
        "\n",
        "#Reaccion: C6H12O6 + O2 ---> CO2 + H2O\n",
        "#Balance: C6H12O6 + 6O2 ---> 6CO2 + 6H2O\n",
        "\n",
        "react1 = mm_carbono*6+mm_hidrogeno*12+mm_oxigeno*6\n",
        "react2 = mm_oxigeno*2\n",
        "\n",
        "mm_reactivos = 1*react1 + 6*react2\n",
        "\n",
        "prod1 = mm_carbono+mm_oxigeno*2\n",
        "prod2 = mm_hidrogeno*2+mm_oxigeno\n",
        "\n",
        "mm_productos = 6*prod1 + 6*prod2\n",
        "\n",
        "if mm_reactivos == mm_productos:\n",
        "  print(f\"Se ha conservado la masa: MM de los reactivos ({mm_reactivos} g/mol) == MM de los productos ({mm_productos} g/mol)\")\n",
        "else:\n",
        "  print(f\"No se ha conservado la masa: MM de los reactivos ({mm_reactivos} g/mol) != MM de los productos ({mm_productos} g/mol)\")"
      ],
      "metadata": {
        "colab": {
          "base_uri": "https://localhost:8080/"
        },
        "id": "IWcm5sKBi4_d",
        "outputId": "5e0b37e4-0f92-4817-a693-8c8703f7b1b5"
      },
      "execution_count": null,
      "outputs": [
        {
          "output_type": "stream",
          "name": "stdout",
          "text": [
            "Se ha conservado la masa: MM de los reactivos (372 g/mol) == MM de los productos (372 g/mol)\n"
          ]
        }
      ]
    },
    {
      "cell_type": "markdown",
      "source": [
        "## Pregunta 4: Notación científica (4 puntos)"
      ],
      "metadata": {
        "id": "Rh-nAUiKhJNB"
      }
    },
    {
      "cell_type": "markdown",
      "source": [
        "Imprime las siguientes operaciones según la notación científica:\n",
        "\n",
        "(1) $1.321 \\times 10^{-4} + 8.5 \\times 10^{-2}$\n",
        "\n",
        "(2) $1.71 \\times 10^{3} - 2.01 \\times 10^{2}\\$\n",
        "\n",
        "(3) $(7.4 \\times 10^5)(7.2 \\times 10^4)$\n",
        "\n",
        "(4) $(7.4 \\times 10^5)/(7.2 \\times 10^4)$"
      ],
      "metadata": {
        "id": "NIkI45Xdqqnt"
      }
    },
    {
      "cell_type": "code",
      "source": [
        "a = 1.321e-4 + 8.5e-2\n",
        "b = 1.71e+3 - 2.01e+2\n",
        "c = 7.4e+5 * 7.2e+4\n",
        "d = 7.4e+5 / 7.2e+4\n",
        "\n",
        "print(f\"(1) {a:.1e}\")\n",
        "print(f\"(2) {b:.2e}\")\n",
        "print(f\"(3) {c:.1e}\")\n",
        "print(f\"(4) {d:.1e}\")"
      ],
      "metadata": {
        "colab": {
          "base_uri": "https://localhost:8080/"
        },
        "id": "xSZdxNieB93F",
        "outputId": "b379bdb3-3f1d-4a4e-ae38-25ec8e20cfc6"
      },
      "execution_count": null,
      "outputs": [
        {
          "output_type": "stream",
          "name": "stdout",
          "text": [
            "(1) 8.5e-02\n",
            "(2) 1.51e+03\n",
            "(3) 5.3e+10\n",
            "(4) 1.0e+01\n"
          ]
        }
      ]
    },
    {
      "cell_type": "markdown",
      "source": [
        "## Pregunta 5: Método científico (4 puntos)"
      ],
      "metadata": {
        "id": "CuzCcXJghR14"
      }
    },
    {
      "cell_type": "markdown",
      "source": [
        "Artículo: https://bit.ly/3surZ1W\n",
        "Leer el siguiente artículo y explica cómo es aplicado el método científico. Emplea como máximo 300 palabras."
      ],
      "metadata": {
        "id": "WngRSR-Rhmx1"
      }
    },
    {
      "cell_type": "markdown",
      "source": [
        "En el caso expuesto del LK-99. Se utilizó el método científico para aclarar las verdaderas propiedades del compuesto y refutar las nociones previas sobre el mismo. La hipótesis era que se trataba de un superconductor, debido principalmente a su aparente alta caída de resistividad y capacidad de levitación. Con este fin, se llevó a cabo ciertos experimentos que incluían pruebas de presión, temperatura y magnetismo. La acumulación de resultados evidenciaba que poseía una levitación parcial, no lo suficientemente convincente para afirmar la afirmación inicial. En otra prueba se demostró, con la ayuda de comparativas e información extra, la presencia de impurezas del LK-99 por restos de sulfuro de cobre que se acoplaban al momento de su producción. Lo cual llevó a desmentir el planteamiento inicial y la posterior corroboración de sus propiedades reales, concluyendo al final que se trataba de un aislante, mas no de un superconductor."
      ],
      "metadata": {
        "id": "YltNTjU44AAC"
      }
    }
  ]
}